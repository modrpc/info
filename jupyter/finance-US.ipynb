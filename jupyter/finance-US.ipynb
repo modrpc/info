{
 "cells": [
  {
   "cell_type": "code",
   "execution_count": 10,
   "metadata": {
    "scrolled": true
   },
   "outputs": [
    {
     "data": {
      "text/html": [
       "<div>\n",
       "<style scoped>\n",
       "    .dataframe tbody tr th:only-of-type {\n",
       "        vertical-align: middle;\n",
       "    }\n",
       "\n",
       "    .dataframe tbody tr th {\n",
       "        vertical-align: top;\n",
       "    }\n",
       "\n",
       "    .dataframe thead th {\n",
       "        text-align: right;\n",
       "    }\n",
       "</style>\n",
       "<table border=\"1\" class=\"dataframe\">\n",
       "  <thead>\n",
       "    <tr style=\"text-align: right;\">\n",
       "      <th></th>\n",
       "      <th></th>\n",
       "      <th>Close</th>\n",
       "      <th>High</th>\n",
       "      <th>Low</th>\n",
       "      <th>Open</th>\n",
       "      <th>Volume</th>\n",
       "    </tr>\n",
       "    <tr>\n",
       "      <th>Symbol</th>\n",
       "      <th>Date</th>\n",
       "      <th></th>\n",
       "      <th></th>\n",
       "      <th></th>\n",
       "      <th></th>\n",
       "      <th></th>\n",
       "    </tr>\n",
       "  </thead>\n",
       "  <tbody>\n",
       "    <tr>\n",
       "      <th rowspan=\"5\" valign=\"top\">F</th>\n",
       "      <th>2015-02-09</th>\n",
       "      <td>15.92</td>\n",
       "      <td>16.03</td>\n",
       "      <td>15.72</td>\n",
       "      <td>15.76</td>\n",
       "      <td>20286720</td>\n",
       "    </tr>\n",
       "    <tr>\n",
       "      <th>2015-02-10</th>\n",
       "      <td>16.09</td>\n",
       "      <td>16.14</td>\n",
       "      <td>15.91</td>\n",
       "      <td>16.05</td>\n",
       "      <td>27928530</td>\n",
       "    </tr>\n",
       "    <tr>\n",
       "      <th>2015-02-11</th>\n",
       "      <td>16.25</td>\n",
       "      <td>16.31</td>\n",
       "      <td>16.01</td>\n",
       "      <td>16.08</td>\n",
       "      <td>34285331</td>\n",
       "    </tr>\n",
       "    <tr>\n",
       "      <th>2015-02-12</th>\n",
       "      <td>16.36</td>\n",
       "      <td>16.45</td>\n",
       "      <td>16.30</td>\n",
       "      <td>16.34</td>\n",
       "      <td>23738806</td>\n",
       "    </tr>\n",
       "    <tr>\n",
       "      <th>2015-02-13</th>\n",
       "      <td>16.30</td>\n",
       "      <td>16.36</td>\n",
       "      <td>16.19</td>\n",
       "      <td>16.33</td>\n",
       "      <td>19954568</td>\n",
       "    </tr>\n",
       "  </tbody>\n",
       "</table>\n",
       "</div>"
      ],
      "text/plain": [
       "                   Close   High    Low   Open    Volume\n",
       "Symbol Date                                            \n",
       "F      2015-02-09  15.92  16.03  15.72  15.76  20286720\n",
       "       2015-02-10  16.09  16.14  15.91  16.05  27928530\n",
       "       2015-02-11  16.25  16.31  16.01  16.08  34285331\n",
       "       2015-02-12  16.36  16.45  16.30  16.34  23738806\n",
       "       2015-02-13  16.30  16.36  16.19  16.33  19954568"
      ]
     },
     "execution_count": 10,
     "metadata": {},
     "output_type": "execute_result"
    }
   ],
   "source": [
    "import numpy as np\n",
    "import pandas as pd\n",
    "import pandas_datareader.data as web\n",
    "from datetime import datetime\n",
    "start = datetime(2015, 2, 9)\n",
    "end = datetime(2017, 5, 24)\n",
    "f = web.DataReader('F', 'morningstar', start, end)\n",
    "data = f.head()\n",
    "data?\n",
    "data"
   ]
  },
  {
   "cell_type": "code",
   "execution_count": 11,
   "metadata": {},
   "outputs": [
    {
     "data": {
      "text/plain": [
       "Close     float64\n",
       "High      float64\n",
       "Low       float64\n",
       "Open      float64\n",
       "Volume      int64\n",
       "dtype: object"
      ]
     },
     "execution_count": 11,
     "metadata": {},
     "output_type": "execute_result"
    }
   ],
   "source": [
    "data.dtypes"
   ]
  },
  {
   "cell_type": "code",
   "execution_count": 13,
   "metadata": {},
   "outputs": [
    {
     "data": {
      "text/plain": [
       "Symbol  Date      \n",
       "F       2015-02-09    15.92\n",
       "        2015-02-10    16.09\n",
       "        2015-02-11    16.25\n",
       "        2015-02-12    16.36\n",
       "        2015-02-13    16.30\n",
       "Name: Close, dtype: float64"
      ]
     },
     "execution_count": 13,
     "metadata": {},
     "output_type": "execute_result"
    }
   ],
   "source": [
    "data.Close9:"
   ]
  }
 ],
 "metadata": {
  "kernelspec": {
   "display_name": "Python 3",
   "language": "python",
   "name": "python3"
  },
  "language_info": {
   "codemirror_mode": {
    "name": "ipython",
    "version": 3
   },
   "file_extension": ".py",
   "mimetype": "text/x-python",
   "name": "python",
   "nbconvert_exporter": "python",
   "pygments_lexer": "ipython3",
   "version": "3.6.4"
  }
 },
 "nbformat": 4,
 "nbformat_minor": 2
}
