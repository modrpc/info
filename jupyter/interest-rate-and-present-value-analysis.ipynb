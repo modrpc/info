{
 "cells": [
  {
   "cell_type": "code",
   "execution_count": 16,
   "metadata": {},
   "outputs": [],
   "source": [
    "import matplotlib.pyplot as plt\n",
    "import numpy as np"
   ]
  },
  {
   "cell_type": "code",
   "execution_count": 31,
   "metadata": {},
   "outputs": [],
   "source": [
    "def growth(p, rate, year):\n",
    "    return p*((1.0+rate)**year)\n",
    "def print_growth(p, rate, times):\n",
    "    for i in range(1,times):\n",
    "        print(\"year %2d: %8.2f\" % (i, growth(p, rate, i)))\n",
    "def plot_growth(p, rate, times):\n",
    "    xs = []\n",
    "    ys = []\n",
    "    for i in range(1,times):\n",
    "        xs.append(i)\n",
    "        ys.append(growth(p, rate, i))\n",
    "    plt.bar(xs, ys)\n",
    "    plt.plot(xs, ys)\n",
    "    plt.show()"
   ]
  },
  {
   "cell_type": "code",
   "execution_count": 32,
   "metadata": {},
   "outputs": [
    {
     "data": {
      "image/png": "[encoded data removed]",
      "text/plain": [
       "<Figure size 432x288 with 1 Axes>"
      ]
     },
     "metadata": {},
     "output_type": "display_data"
    }
   ],
   "source": [
    "plot_growth(1000000, 0.072, 20)"
   ]
  },
  {
   "cell_type": "code",
   "execution_count": 29,
   "metadata": {},
   "outputs": [
    {
     "name": "stdout",
     "output_type": "stream",
     "text": [
      "year  1: 1072000.00\n",
      "year  2: 1149184.00\n",
      "year  3: 1231925.25\n",
      "year  4: 1320623.87\n",
      "year  5: 1415708.78\n",
      "year  6: 1517639.82\n",
      "year  7: 1626909.88\n",
      "year  8: 1744047.40\n",
      "year  9: 1869618.81\n",
      "year 10: 2004231.36\n"
     ]
    }
   ],
   "source": [
    "print_growth(1000000,0.072,11)"
   ]
  },
  {
   "cell_type": "code",
   "execution_count": null,
   "metadata": {},
   "outputs": [],
   "source": []
  }
 ],
 "metadata": {
  "kernelspec": {
   "display_name": "Python 3",
   "language": "python",
   "name": "python3"
  },
  "language_info": {
   "codemirror_mode": {
    "name": "ipython",
    "version": 3
   },
   "file_extension": ".py",
   "mimetype": "text/x-python",
   "name": "python",
   "nbconvert_exporter": "python",
   "pygments_lexer": "ipython3",
   "version": "3.6.4"
  }
 },
 "nbformat": 4,
 "nbformat_minor": 2
}
